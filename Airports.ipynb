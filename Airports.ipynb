{
 "cells": [
  {
   "cell_type": "code",
   "execution_count": null,
   "metadata": {},
   "outputs": [],
   "source": [
    "### Get info about the name of airports in the top 5 cities in Germany\n",
    "import pandas as pd\n",
    "\n",
    "top_german_cities = pd.read_csv('CSV/5_top_german_cities.csv', index_col=[0])\n",
    "airports = pd.read_csv('all_airports.csv')\n",
    "\n",
    "airports_cities = (\n",
    "    airports\n",
    "    .query('type != \"closed\"')\n",
    "    .query('iso_country == \"DE\"')\n",
    "    .merge(top_german_cities, left_on='municipality', right_on = 'name', how='inner')\n",
    "    .rename(columns={\"name_x\": \"airport_name\",\"latitude_deg\":\"airport_lat\",\"longitude_deg\":\"airport_lon\",'gps_code':'icao_code'})\n",
    "    .filter(['city_id','airport_name','airport_lat','airport_lon','iso_country','municipality','icao_code','iata_code','elevation_ft'])\n",
    "    .reset_index(drop=True)\n",
    "    .assign(municipality_iso_country = lambda x: x['municipality'] + ',' + x['iso_country'])\n",
    "    )\n",
    "airports_new = airports_cities[~airports_cities['icao_code'].isna()]\n",
    "airports_new.reset_index(inplace=True, drop=True)\n",
    "\n",
    "airports_new.to_csv('CSV/airports.csv')"
   ]
  }
 ],
 "metadata": {
  "language_info": {
   "name": "python"
  },
  "orig_nbformat": 4
 },
 "nbformat": 4,
 "nbformat_minor": 2
}
